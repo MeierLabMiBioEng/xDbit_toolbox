{
 "cells": [
  {
   "cell_type": "markdown",
   "metadata": {},
   "source": [
    "# Align Dbit-seq transcriptome data and images using Squidpy tools"
   ]
  },
  {
   "cell_type": "code",
   "execution_count": 1,
   "metadata": {},
   "outputs": [],
   "source": [
    "## The following code ensures that all functions and init files are reloaded before executions.\n",
    "%load_ext autoreload\n",
    "%autoreload 2"
   ]
  },
  {
   "cell_type": "code",
   "execution_count": 2,
   "metadata": {},
   "outputs": [],
   "source": [
    "%gui qt"
   ]
  },
  {
   "cell_type": "code",
   "execution_count": 3,
   "metadata": {},
   "outputs": [],
   "source": [
    "## Import the custom library\n",
    "import os\n",
    "import sys\n",
    "module_path = os.path.abspath(os.path.join('../..'))\n",
    "if module_path not in sys.path:\n",
    "    sys.path.append(module_path)\n",
    "\n",
    "import dbitx as db"
   ]
  },
  {
   "cell_type": "code",
   "execution_count": 4,
   "metadata": {},
   "outputs": [],
   "source": [
    "import cv2\n",
    "import numpy as np\n",
    "import matplotlib.pyplot as plt\n",
    "from scipy import ndimage\n",
    "import scanpy as sc\n",
    "import json\n",
    "import squidpy as sq\n",
    "import napari"
   ]
  },
  {
   "cell_type": "markdown",
   "metadata": {},
   "source": [
    "### Specify paths"
   ]
  },
  {
   "cell_type": "code",
   "execution_count": 71,
   "metadata": {},
   "outputs": [],
   "source": [
    "# input parameters\n",
    "well_id = 0\n",
    "alignment_id = 1\n",
    "image_names = ['bf', 'align', 'phalloidin', 'dapi']\n",
    "\n",
    "# image path\n",
    "#image_path = r\"N:\\01 HPC\\03 Team Meier\\10_Resources\\08_Johannes Wirth\\Nextcloud\\DbitX\\data\\37_30\\images\"\n",
    "image_path = \"/Users/Johannes/Nextcloud/DbitX/data/37_30/images/\"\n",
    "\n",
    "# transcriptome path\n",
    "matrix_path = r\"N:\\01 HPC\\03 Team Meier\\10_Resources\\08_Johannes Wirth\\Nextcloud\\DbitX\\data\\37_30\\transcriptome\\wells\\A1\\DGE_matrix_with_introns_min100.txt.gz\"\n",
    "\n",
    "# output directory\n",
    "output_name = \"37_28_adata_raw_with_images.h5ad\""
   ]
  },
  {
   "cell_type": "code",
   "execution_count": 66,
   "metadata": {},
   "outputs": [],
   "source": [
    "# get image names\n",
    "well_names = os.listdir(image_path)\n",
    "well_name = well_names[well_id]\n",
    "image_names = os.listdir(os.path.join(image_path,well_name))"
   ]
  },
  {
   "cell_type": "code",
   "execution_count": 67,
   "metadata": {},
   "outputs": [],
   "source": [
    "# load images\n",
    "images = [cv2.imread(os.path.join(image_path, well_name, name), -1) for name in image_names]"
   ]
  },
  {
   "cell_type": "code",
   "execution_count": 68,
   "metadata": {},
   "outputs": [],
   "source": [
    "alignment_image = images[alignment_id]"
   ]
  },
  {
   "cell_type": "markdown",
   "metadata": {},
   "source": [
    "### Select corner spots in alignment image using napari viewer"
   ]
  },
  {
   "cell_type": "code",
   "execution_count": 74,
   "metadata": {},
   "outputs": [],
   "source": [
    "viewer = napari.view_image(alignment_image, title=\"Select corner spots in alignment image of well \" + well_name)"
   ]
  },
  {
   "cell_type": "markdown",
   "metadata": {},
   "source": [
    "#### Extract pivot spot and calibration points from viewer"
   ]
  },
  {
   "cell_type": "code",
   "execution_count": 70,
   "metadata": {},
   "outputs": [],
   "source": [
    "# fetch vertices (center points of )\n",
    "corner_spots_center = viewer.layers[\"Points\"].data.astype(int)"
   ]
  },
  {
   "cell_type": "code",
   "execution_count": 26,
   "metadata": {},
   "outputs": [],
   "source": [
    "# values from 37_28\n",
    "#corner_spots_center = np.array([[ 486,  990],[ 891, 8662], [8567, 8324],[8164,  646]])"
   ]
  },
  {
   "cell_type": "markdown",
   "metadata": {},
   "source": [
    "### Create adata with images and metadata"
   ]
  },
  {
   "cell_type": "code",
   "execution_count": 73,
   "metadata": {},
   "outputs": [
    {
     "name": "stdout",
     "output_type": "stream",
     "text": [
      "Read transcriptome matrix...\n",
      "Align and create image metadata...\n",
      "     Align images...\n",
      "     Create metadata...\n",
      "     Summarized aligned images and metadata...\n",
      "Compute coordinates...\n",
      "Adata object generated.\n",
      "Saving image...\n",
      "Adata object saved into N:\\01 HPC\\03 Team Meier\\10_Resources\\08_Johannes Wirth\\Nextcloud\\DbitX\\data\\37_30\\images\\A1\\37_28_adata_raw_with_images.h5ad\n",
      "Finished\n"
     ]
    }
   ],
   "source": [
    "savepath = os.path.join(well_path, output_name)\n",
    "\n",
    "adata = db.dbitseq_to_squidpy(matrix_path=matrix_path, images=images, labels=image_names, vertices=corner_spots_center, \n",
    "                              resolution=50, n_channels=38, frame=100, savepath=savepath)"
   ]
  },
  {
   "cell_type": "markdown",
   "metadata": {},
   "source": [
    "## Write total data to file"
   ]
  },
  {
   "cell_type": "code",
   "execution_count": 43,
   "metadata": {},
   "outputs": [],
   "source": [
    "adata.write(os.path.join(well_path, output_name))"
   ]
  }
 ],
 "metadata": {
  "kernelspec": {
   "display_name": "Python 3 (spatial)",
   "language": "python",
   "name": "spatial"
  },
  "language_info": {
   "codemirror_mode": {
    "name": "ipython",
    "version": 3
   },
   "file_extension": ".py",
   "mimetype": "text/x-python",
   "name": "python",
   "nbconvert_exporter": "python",
   "pygments_lexer": "ipython3",
   "version": "3.8.8"
  }
 },
 "nbformat": 4,
 "nbformat_minor": 4
}
