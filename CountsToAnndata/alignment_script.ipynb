{
 "cells": [
  {
   "cell_type": "markdown",
   "metadata": {},
   "source": [
    "# Align Dbit-seq transcriptome data and images using Squidpy tools"
   ]
  },
  {
   "cell_type": "code",
   "execution_count": 1,
   "metadata": {},
   "outputs": [],
   "source": [
    "## The following code ensures that all functions and init files are reloaded before executions.\n",
    "%load_ext autoreload\n",
    "%autoreload 2"
   ]
  },
  {
   "cell_type": "code",
   "execution_count": 2,
   "metadata": {},
   "outputs": [],
   "source": [
    "%gui qt"
   ]
  },
  {
   "cell_type": "code",
   "execution_count": 74,
   "metadata": {},
   "outputs": [],
   "source": [
    "import sys\n",
    "import os\n",
    "module_path = os.path.abspath(os.path.join(\"..\"))\n",
    "if module_path not in sys.path:\n",
    "    sys.path.append(module_path)\n",
    "\n",
    "import dbitx_funcs as db\n",
    "import scanpy as sc\n",
    "import napari\n",
    "import cv2\n",
    "import json\n",
    "import pandas as pd\n",
    "import numpy as np"
   ]
  },
  {
   "cell_type": "markdown",
   "metadata": {},
   "source": [
    "### Specify paths"
   ]
  },
  {
   "cell_type": "code",
   "execution_count": 68,
   "metadata": {},
   "outputs": [],
   "source": [
    "lines = open(\"../CountsToAnndata/alignment_parameters.csv\").readlines()\n",
    "param_start = [i for i, line in enumerate(lines) if line.startswith(\">parameters\")][0]\n",
    "dir_start = [i for i, line in enumerate(lines) if line.startswith(\">directories\")][0]"
   ]
  },
  {
   "cell_type": "code",
   "execution_count": 93,
   "metadata": {},
   "outputs": [],
   "source": [
    "parameters = pd.read_csv(\"../CountsToAnndata/alignment_parameters.csv\", \n",
    "                       nrows=dir_start-1).dropna(how='all', axis=0).dropna(how='all', axis=1).set_index('category')"
   ]
  },
  {
   "cell_type": "code",
   "execution_count": 97,
   "metadata": {},
   "outputs": [
    {
     "data": {
      "text/html": [
       "<div>\n",
       "<style scoped>\n",
       "    .dataframe tbody tr th:only-of-type {\n",
       "        vertical-align: middle;\n",
       "    }\n",
       "\n",
       "    .dataframe tbody tr th {\n",
       "        vertical-align: top;\n",
       "    }\n",
       "\n",
       "    .dataframe thead th {\n",
       "        text-align: right;\n",
       "    }\n",
       "</style>\n",
       "<table border=\"1\" class=\"dataframe\">\n",
       "  <thead>\n",
       "    <tr style=\"text-align: right;\">\n",
       "      <th></th>\n",
       "      <th>value</th>\n",
       "    </tr>\n",
       "    <tr>\n",
       "      <th>category</th>\n",
       "      <th></th>\n",
       "    </tr>\n",
       "  </thead>\n",
       "  <tbody>\n",
       "    <tr>\n",
       "      <th>image_labels</th>\n",
       "      <td>bf align phalloidin dapi</td>\n",
       "    </tr>\n",
       "    <tr>\n",
       "      <th>n_channels</th>\n",
       "      <td>38</td>\n",
       "    </tr>\n",
       "    <tr>\n",
       "      <th>spot_width</th>\n",
       "      <td>50</td>\n",
       "    </tr>\n",
       "    <tr>\n",
       "      <th>frame</th>\n",
       "      <td>100</td>\n",
       "    </tr>\n",
       "  </tbody>\n",
       "</table>\n",
       "</div>"
      ],
      "text/plain": [
       "                                 value\n",
       "category                              \n",
       "image_labels  bf align phalloidin dapi\n",
       "n_channels                          38\n",
       "spot_width                          50\n",
       "frame                              100"
      ]
     },
     "execution_count": 97,
     "metadata": {},
     "output_type": "execute_result"
    }
   ],
   "source": [
    "parameters"
   ]
  },
  {
   "cell_type": "code",
   "execution_count": 71,
   "metadata": {},
   "outputs": [],
   "source": [
    "directories = pd.read_csv(\"../CountsToAnndata/alignment_parameters.csv\", \n",
    "                          skiprows=dir_start).dropna(how='all', axis=0).dropna(how='all', axis=1)"
   ]
  },
  {
   "cell_type": "code",
   "execution_count": 72,
   "metadata": {},
   "outputs": [
    {
     "data": {
      "text/html": [
       "<div>\n",
       "<style scoped>\n",
       "    .dataframe tbody tr th:only-of-type {\n",
       "        vertical-align: middle;\n",
       "    }\n",
       "\n",
       "    .dataframe tbody tr th {\n",
       "        vertical-align: top;\n",
       "    }\n",
       "\n",
       "    .dataframe thead th {\n",
       "        text-align: right;\n",
       "    }\n",
       "</style>\n",
       "<table border=\"1\" class=\"dataframe\">\n",
       "  <thead>\n",
       "    <tr style=\"text-align: right;\">\n",
       "      <th></th>\n",
       "      <th>input_transcriptome</th>\n",
       "      <th>input_images</th>\n",
       "      <th>output</th>\n",
       "    </tr>\n",
       "  </thead>\n",
       "  <tbody>\n",
       "    <tr>\n",
       "      <th>0</th>\n",
       "      <td>N:/01 HPC/03 Team Meier/10_Resources/08_Johann...</td>\n",
       "      <td>N:/01 HPC/03 Team Meier/10_Resources/08_Johann...</td>\n",
       "      <td>N:/01 HPC/03 Team Meier/10_Resources/08_Johann...</td>\n",
       "    </tr>\n",
       "    <tr>\n",
       "      <th>1</th>\n",
       "      <td>N:/01 HPC/03 Team Meier/10_Resources/08_Johann...</td>\n",
       "      <td>N:/01 HPC/03 Team Meier/10_Resources/08_Johann...</td>\n",
       "      <td>N:/01 HPC/03 Team Meier/10_Resources/08_Johann...</td>\n",
       "    </tr>\n",
       "    <tr>\n",
       "      <th>2</th>\n",
       "      <td>N:/01 HPC/03 Team Meier/10_Resources/08_Johann...</td>\n",
       "      <td>N:/01 HPC/03 Team Meier/10_Resources/08_Johann...</td>\n",
       "      <td>N:/01 HPC/03 Team Meier/10_Resources/08_Johann...</td>\n",
       "    </tr>\n",
       "    <tr>\n",
       "      <th>3</th>\n",
       "      <td>N:/01 HPC/03 Team Meier/10_Resources/08_Johann...</td>\n",
       "      <td>N:/01 HPC/03 Team Meier/10_Resources/08_Johann...</td>\n",
       "      <td>N:/01 HPC/03 Team Meier/10_Resources/08_Johann...</td>\n",
       "    </tr>\n",
       "    <tr>\n",
       "      <th>4</th>\n",
       "      <td>N:/01 HPC/03 Team Meier/10_Resources/08_Johann...</td>\n",
       "      <td>N:/01 HPC/03 Team Meier/10_Resources/08_Johann...</td>\n",
       "      <td>N:/01 HPC/03 Team Meier/10_Resources/08_Johann...</td>\n",
       "    </tr>\n",
       "    <tr>\n",
       "      <th>5</th>\n",
       "      <td>N:/01 HPC/03 Team Meier/10_Resources/08_Johann...</td>\n",
       "      <td>N:/01 HPC/03 Team Meier/10_Resources/08_Johann...</td>\n",
       "      <td>N:/01 HPC/03 Team Meier/10_Resources/08_Johann...</td>\n",
       "    </tr>\n",
       "    <tr>\n",
       "      <th>6</th>\n",
       "      <td>N:/01 HPC/03 Team Meier/10_Resources/08_Johann...</td>\n",
       "      <td>N:/01 HPC/03 Team Meier/10_Resources/08_Johann...</td>\n",
       "      <td>N:/01 HPC/03 Team Meier/10_Resources/08_Johann...</td>\n",
       "    </tr>\n",
       "    <tr>\n",
       "      <th>7</th>\n",
       "      <td>N:/01 HPC/03 Team Meier/10_Resources/08_Johann...</td>\n",
       "      <td>N:/01 HPC/03 Team Meier/10_Resources/08_Johann...</td>\n",
       "      <td>N:/01 HPC/03 Team Meier/10_Resources/08_Johann...</td>\n",
       "    </tr>\n",
       "    <tr>\n",
       "      <th>8</th>\n",
       "      <td>N:/01 HPC/03 Team Meier/10_Resources/08_Johann...</td>\n",
       "      <td>N:/01 HPC/03 Team Meier/10_Resources/08_Johann...</td>\n",
       "      <td>N:/01 HPC/03 Team Meier/10_Resources/08_Johann...</td>\n",
       "    </tr>\n",
       "  </tbody>\n",
       "</table>\n",
       "</div>"
      ],
      "text/plain": [
       "                                 input_transcriptome  \\\n",
       "0  N:/01 HPC/03 Team Meier/10_Resources/08_Johann...   \n",
       "1  N:/01 HPC/03 Team Meier/10_Resources/08_Johann...   \n",
       "2  N:/01 HPC/03 Team Meier/10_Resources/08_Johann...   \n",
       "3  N:/01 HPC/03 Team Meier/10_Resources/08_Johann...   \n",
       "4  N:/01 HPC/03 Team Meier/10_Resources/08_Johann...   \n",
       "5  N:/01 HPC/03 Team Meier/10_Resources/08_Johann...   \n",
       "6  N:/01 HPC/03 Team Meier/10_Resources/08_Johann...   \n",
       "7  N:/01 HPC/03 Team Meier/10_Resources/08_Johann...   \n",
       "8  N:/01 HPC/03 Team Meier/10_Resources/08_Johann...   \n",
       "\n",
       "                                        input_images  \\\n",
       "0  N:/01 HPC/03 Team Meier/10_Resources/08_Johann...   \n",
       "1  N:/01 HPC/03 Team Meier/10_Resources/08_Johann...   \n",
       "2  N:/01 HPC/03 Team Meier/10_Resources/08_Johann...   \n",
       "3  N:/01 HPC/03 Team Meier/10_Resources/08_Johann...   \n",
       "4  N:/01 HPC/03 Team Meier/10_Resources/08_Johann...   \n",
       "5  N:/01 HPC/03 Team Meier/10_Resources/08_Johann...   \n",
       "6  N:/01 HPC/03 Team Meier/10_Resources/08_Johann...   \n",
       "7  N:/01 HPC/03 Team Meier/10_Resources/08_Johann...   \n",
       "8  N:/01 HPC/03 Team Meier/10_Resources/08_Johann...   \n",
       "\n",
       "                                              output  \n",
       "0  N:/01 HPC/03 Team Meier/10_Resources/08_Johann...  \n",
       "1  N:/01 HPC/03 Team Meier/10_Resources/08_Johann...  \n",
       "2  N:/01 HPC/03 Team Meier/10_Resources/08_Johann...  \n",
       "3  N:/01 HPC/03 Team Meier/10_Resources/08_Johann...  \n",
       "4  N:/01 HPC/03 Team Meier/10_Resources/08_Johann...  \n",
       "5  N:/01 HPC/03 Team Meier/10_Resources/08_Johann...  \n",
       "6  N:/01 HPC/03 Team Meier/10_Resources/08_Johann...  \n",
       "7  N:/01 HPC/03 Team Meier/10_Resources/08_Johann...  \n",
       "8  N:/01 HPC/03 Team Meier/10_Resources/08_Johann...  "
      ]
     },
     "execution_count": 72,
     "metadata": {},
     "output_type": "execute_result"
    }
   ],
   "source": [
    "directories"
   ]
  },
  {
   "cell_type": "markdown",
   "metadata": {},
   "source": [
    "### Check if all necessary parameters are in the file"
   ]
  },
  {
   "cell_type": "code",
   "execution_count": 101,
   "metadata": {},
   "outputs": [],
   "source": [
    "param_cats = [\"image_labels\", \"n_channels\"]\n",
    "dir_cats = [\"input_transcriptome\", \"input_images\", \"output\"]\n",
    "\n",
    "assert np.all([elem in parameters.index for elem in param_cats]), \"Not all required categories found in parameter section {}\".format(param_columns)\n",
    "assert np.all([elem in directories.columns for elem in dir_cats]), \"Not all required column headers found in directory section {}\".format(dir_columns)"
   ]
  },
  {
   "cell_type": "code",
   "execution_count": null,
   "metadata": {},
   "outputs": [],
   "source": []
  },
  {
   "cell_type": "code",
   "execution_count": null,
   "metadata": {},
   "outputs": [],
   "source": []
  },
  {
   "cell_type": "code",
   "execution_count": 71,
   "metadata": {},
   "outputs": [],
   "source": [
    "# input parameters\n",
    "well_id = 0\n",
    "alignment_id = 1\n",
    "image_names = ['bf', 'align', 'phalloidin', 'dapi']\n",
    "\n",
    "# image path\n",
    "#image_path = r\"N:\\01 HPC\\03 Team Meier\\10_Resources\\08_Johannes Wirth\\Nextcloud\\DbitX\\data\\37_30\\images\"\n",
    "image_path = \"/Users/Johannes/Nextcloud/DbitX/data/37_30/images/\"\n",
    "\n",
    "# transcriptome path\n",
    "matrix_path = r\"N:\\01 HPC\\03 Team Meier\\10_Resources\\08_Johannes Wirth\\Nextcloud\\DbitX\\data\\37_30\\transcriptome\\wells\\A1\\DGE_matrix_with_introns_min100.txt.gz\"\n",
    "\n",
    "# output directory\n",
    "output_name = \"37_28_adata_raw_with_images.h5ad\""
   ]
  },
  {
   "cell_type": "code",
   "execution_count": 66,
   "metadata": {},
   "outputs": [],
   "source": [
    "# get image names\n",
    "well_names = os.listdir(image_path)\n",
    "well_name = well_names[well_id]\n",
    "image_names = os.listdir(os.path.join(image_path,well_name))"
   ]
  },
  {
   "cell_type": "code",
   "execution_count": 67,
   "metadata": {},
   "outputs": [],
   "source": [
    "# load images\n",
    "images = [cv2.imread(os.path.join(image_path, well_name, name), -1) for name in image_names]"
   ]
  },
  {
   "cell_type": "code",
   "execution_count": 68,
   "metadata": {},
   "outputs": [],
   "source": [
    "alignment_image = images[alignment_id]"
   ]
  },
  {
   "cell_type": "markdown",
   "metadata": {},
   "source": [
    "### Select corner spots in alignment image using napari viewer"
   ]
  },
  {
   "cell_type": "code",
   "execution_count": 74,
   "metadata": {},
   "outputs": [],
   "source": [
    "viewer = napari.view_image(alignment_image, title=\"Select corner spots in alignment image of well \" + well_name)"
   ]
  },
  {
   "cell_type": "markdown",
   "metadata": {},
   "source": [
    "#### Extract pivot spot and calibration points from viewer"
   ]
  },
  {
   "cell_type": "code",
   "execution_count": 70,
   "metadata": {},
   "outputs": [],
   "source": [
    "# fetch vertices (center points of )\n",
    "corner_spots_center = viewer.layers[\"Points\"].data.astype(int)"
   ]
  },
  {
   "cell_type": "code",
   "execution_count": 26,
   "metadata": {},
   "outputs": [],
   "source": [
    "# values from 37_28\n",
    "#corner_spots_center = np.array([[ 486,  990],[ 891, 8662], [8567, 8324],[8164,  646]])"
   ]
  },
  {
   "cell_type": "markdown",
   "metadata": {},
   "source": [
    "### Create adata with images and metadata"
   ]
  },
  {
   "cell_type": "code",
   "execution_count": 73,
   "metadata": {},
   "outputs": [
    {
     "name": "stdout",
     "output_type": "stream",
     "text": [
      "Read transcriptome matrix...\n",
      "Align and create image metadata...\n",
      "     Align images...\n",
      "     Create metadata...\n",
      "     Summarized aligned images and metadata...\n",
      "Compute coordinates...\n",
      "Adata object generated.\n",
      "Saving image...\n",
      "Adata object saved into N:\\01 HPC\\03 Team Meier\\10_Resources\\08_Johannes Wirth\\Nextcloud\\DbitX\\data\\37_30\\images\\A1\\37_28_adata_raw_with_images.h5ad\n",
      "Finished\n"
     ]
    }
   ],
   "source": [
    "savepath = os.path.join(well_path, output_name)\n",
    "\n",
    "adata = db.dbitseq_to_squidpy(matrix_path=matrix_path, images=images, labels=image_names, vertices=corner_spots_center, \n",
    "                              resolution=50, n_channels=38, frame=100, savepath=savepath)"
   ]
  },
  {
   "cell_type": "markdown",
   "metadata": {},
   "source": [
    "## Write total data to file"
   ]
  },
  {
   "cell_type": "code",
   "execution_count": 43,
   "metadata": {},
   "outputs": [],
   "source": [
    "adata.write(os.path.join(well_path, output_name))"
   ]
  }
 ],
 "metadata": {
  "kernelspec": {
   "display_name": "Python 3 (spatial)",
   "language": "python",
   "name": "spatial"
  },
  "language_info": {
   "codemirror_mode": {
    "name": "ipython",
    "version": 3
   },
   "file_extension": ".py",
   "mimetype": "text/x-python",
   "name": "python",
   "nbconvert_exporter": "python",
   "pygments_lexer": "ipython3",
   "version": "3.8.8"
  }
 },
 "nbformat": 4,
 "nbformat_minor": 4
}
