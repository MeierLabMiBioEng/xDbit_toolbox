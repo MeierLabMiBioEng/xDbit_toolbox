{
 "cells": [
  {
   "cell_type": "markdown",
   "metadata": {},
   "source": [
    "# Download raw data from zenodo\n",
    "\n",
    "The plan is to upload the raw data to zenodo to make it easily accessible. In this notebook I explore ways to download from there the raw data that is necessary to perform all analyses of the publication. <br>\n",
    "\n",
    "Tools/Tutorials:\n",
    "- zenodopy: https://towardsdatascience.com/zenodopy-manage-zenodo-projects-from-python-aa7c36634c1d\n",
    "- zenodo_get:\n",
    "    - https://zenodo.org/record/1261813\n",
    "    - https://gitlab.com/dvolgyes/zenodo_get\n",
    "- https://blog.jupyter.org/binder-with-zenodo-af68ed6648a6 (not sure if this is about downloading from zenodo but sounds interesting anyway)\n"
   ]
  },
  {
   "cell_type": "code",
   "execution_count": null,
   "metadata": {
    "vscode": {
     "languageId": "plaintext"
    }
   },
   "outputs": [],
   "source": []
  }
 ],
 "metadata": {
  "language_info": {
   "name": "python"
  },
  "orig_nbformat": 4
 },
 "nbformat": 4,
 "nbformat_minor": 2
}
